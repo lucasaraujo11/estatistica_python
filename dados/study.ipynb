{
 "cells": [
  {
   "cell_type": "code",
   "execution_count": 6,
   "id": "f199ce35",
   "metadata": {},
   "outputs": [],
   "source": [
    "from scipy.special import comb\n",
    "from scipy.stats import binom"
   ]
  },
  {
   "cell_type": "markdown",
   "id": "de4174f7",
   "metadata": {},
   "source": [
    "Em um volante de loteria da Mega Sena temos um total de **60 números** para escolher onde a aposta mínima é de **seis números**. Você que é curiosa(o) resolve calcular a probabilidade de se acertar na Mega Sena com apenas **um jogo**. Para isso precisamos saber quantas **combinações de seis números podem ser formadas com os 60 números disponíveis**."
   ]
  },
  {
   "cell_type": "code",
   "execution_count": null,
   "id": "a3b11973",
   "metadata": {},
   "outputs": [
    {
     "name": "stdout",
     "output_type": "stream",
     "text": [
      "total combinações mega sena 50063860.00\n",
      "probabilidade de ganhar 0.000000019974489\n"
     ]
    }
   ],
   "source": [
    "numero_bolas = 60\n",
    "num_por_cartela = 6\n",
    "cartela = 1\n",
    "\n",
    "combinacoes = comb(numero_bolas, num_por_cartela)\n",
    "combinacoes\n",
    "\n",
    "propabilidade = cartela / combinacoes\n",
    "\n",
    "print(f'total combinações mega sena %0.2f' % combinacoes)\n",
    "print(f'probabilidade de ganhar %0.15f' % propabilidade)"
   ]
  },
  {
   "cell_type": "markdown",
   "id": "ce6891c7",
   "metadata": {},
   "source": [
    "Em um concurso para preencher uma vaga de cientista de dados temos um total de **10 questões** de múltipla escolha com **3 alternativas possíveis** em cada questão. **Cada questão tem o mesmo valor.** Suponha que um candidato resolva se aventurar sem ter estudado absolutamente nada. Ele resolve fazer a prova de olhos vendados e chutar todas as resposta. Assumindo que a prova **vale 10 pontos e a nota de corte seja 5**, obtenha a probabilidade deste candidato **acertar 5 questões** e também a probabilidade deste candidato **passar para a próxima etapa do processo seletivo**."
   ]
  },
  {
   "cell_type": "code",
   "execution_count": 13,
   "id": "d4e78103",
   "metadata": {},
   "outputs": [
    {
     "name": "stdout",
     "output_type": "stream",
     "text": [
      "Probabilidade de acertar 5 questões: 13.66%\n",
      "Probabilidade de passar (acertar 5 questões ou mais): 21.31%\n"
     ]
    }
   ],
   "source": [
    "# quantidade de questões, numero de ensaios\n",
    "n = 10\n",
    "\n",
    "# Qual a probabilidade de sucesso p?\n",
    "numero_de_alternativa_por_questão = 3 \n",
    "p = 1 / numero_de_alternativa_por_questão\n",
    "\n",
    "# probabilidade de fracasso q? \n",
    "q = 1 - p\n",
    "\n",
    "# total de eventos que se deseja obter sucesso k? \n",
    "k = 5\n",
    "\n",
    "propabilidade = binom.pmf(k, n, p) * 100\n",
    "propabilidade_passar = binom.sf(4, n, p) * 100\n",
    "\n",
    "print(f'Probabilidade de acertar 5 questões: {propabilidade:.2f}%')\n",
    "print(f'Probabilidade de passar (acertar 5 questões ou mais): {propabilidade_passar:.2f}%')"
   ]
  },
  {
   "cell_type": "markdown",
   "id": "45b50a2e",
   "metadata": {},
   "source": [
    "Suponha que acabamos de criar um jogo de loteria, chamado Show de prêmios. Neste nosso novo jogo, o apostador marca **20 números**, dentre os **25 disponíveis** no bilhete, e pode ganhar até 1 milhão de reais.\n",
    "\n",
    "Determine **qual o número de combinações possíveis (espaço amostral)** e a **probabilidade de se ganhar o prêmio jogando apenas um bilhete** (considere apenas quinze casas decimais)."
   ]
  },
  {
   "cell_type": "code",
   "execution_count": null,
   "id": "a2752fcc",
   "metadata": {},
   "outputs": [
    {
     "name": "stdout",
     "output_type": "stream",
     "text": [
      "Numero de combinações possíveis: 53130\n",
      "Probabilidade de ganhar jogando apenas um bilhete: 0.000018821757952\n",
      "Combinações = 53130 e Probabilidade = 0.000018821757952\n"
     ]
    }
   ],
   "source": [
    "espaco_amostral = comb(N = 25, k = 20)\n",
    "probabilidade = 1 / comb(N = 25, k = 20)\n",
    "\n",
    "print(f'Numero de combinações possíveis: {espaco_amostral:.0f}')\n",
    "print(f'Probabilidade de ganhar jogando apenas um bilhete: {probabilidade:0.15f}')\n",
    "\n",
    "print('Combinações = %d e Probabilidade = %0.15f' % (espaco_amostral, probabilidade))"
   ]
  },
  {
   "cell_type": "markdown",
   "id": "f60dc7da",
   "metadata": {},
   "source": [
    "Uma moeda, perfeitamente equilibrada, é lançada para o alto **quatro vezes**. Utilizando a distribuição binomial, obtenha **a probabilidade de a moeda cair com a face coroa voltada para cima duas vezes**."
   ]
  },
  {
   "cell_type": "code",
   "execution_count": null,
   "id": "505af4cf",
   "metadata": {},
   "outputs": [
    {
     "name": "stdout",
     "output_type": "stream",
     "text": [
      "Probabilidade de ganhar jogando apenas um bilhete: 0.3750\n"
     ]
    }
   ],
   "source": [
    "p = 1 / 2  # Probabilidade de sair COROA\n",
    "n = 4      # Total de lançamentos\n",
    "k = 2      # Total de sucessos (faces COROA voltada para cima)\n",
    "\n",
    "probabilidade = binom.pmf(k, n, p)\n",
    "\n",
    "print(f'Probabilidade de cair a moeda com a face coroa: {probabilidade:0.4f}')"
   ]
  },
  {
   "cell_type": "markdown",
   "id": "ff9b9504",
   "metadata": {},
   "source": [
    "Um dado, perfeitamente equilibrado, é lançado para o alto **dez vezes**. Utilizando a **distribuição binomial**, obtenha a probabilidade de o dado cair com o número **cinco** voltado para cima **pelo menos três vezes**."
   ]
  },
  {
   "cell_type": "code",
   "execution_count": 36,
   "id": "4b941d90",
   "metadata": {},
   "outputs": [
    {
     "name": "stdout",
     "output_type": "stream",
     "text": [
      "Probabilidade e cair 5 pelos menos 3 vezes: 22.47732021287407\n"
     ]
    }
   ],
   "source": [
    "p = 1 / 6  # Probabilidade de sair o 5 no dado\n",
    "n = 10      # Total de lançamentos\n",
    "\n",
    "probabilidade = binom.sf(2, n, p ) * 100\n",
    "\n",
    "print(f'Probabilidade e cair 5 pelos menos 3 vezes: {probabilidade}')"
   ]
  },
  {
   "cell_type": "markdown",
   "id": "baa760c6",
   "metadata": {},
   "source": [
    "Suponha que a probabilidade de um casal ter filhos com olhos azuis seja de 22%. Em 50 famílias, com 3 crianças cada uma, quantas podemos esperar que tenham dois filhos com olhos azuis?"
   ]
  },
  {
   "cell_type": "code",
   "execution_count": 37,
   "id": "f26155ab",
   "metadata": {},
   "outputs": [
    {
     "data": {
      "text/plain": [
       "5.662799999999996"
      ]
     },
     "execution_count": 37,
     "metadata": {},
     "output_type": "execute_result"
    }
   ],
   "source": [
    "p = 0.22\n",
    "n = 3\n",
    "k = 2\n",
    "propabilidade = binom.pmf(k, n, p).sum()\n",
    "filos_olhos_azuis = 50 * propabilidade\n",
    "filos_olhos_azuis"
   ]
  }
 ],
 "metadata": {
  "kernelspec": {
   "display_name": "Python 3",
   "language": "python",
   "name": "python3"
  },
  "language_info": {
   "codemirror_mode": {
    "name": "ipython",
    "version": 3
   },
   "file_extension": ".py",
   "mimetype": "text/x-python",
   "name": "python",
   "nbconvert_exporter": "python",
   "pygments_lexer": "ipython3",
   "version": "3.11.3"
  }
 },
 "nbformat": 4,
 "nbformat_minor": 5
}

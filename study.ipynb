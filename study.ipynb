{
 "cells": [
  {
   "cell_type": "code",
   "execution_count": null,
   "id": "f199ce35",
   "metadata": {},
   "outputs": [],
   "source": [
    "import pandas as pd\n",
    "import numpy as np\n",
    "from scipy.special import comb\n",
    "from scipy.stats import binom, poisson, norm"
   ]
  },
  {
   "cell_type": "markdown",
   "id": "de4174f7",
   "metadata": {},
   "source": [
    "Em um volante de loteria da Mega Sena temos um total de **60 números** para escolher onde a aposta mínima é de **seis números**. Você que é curiosa(o) resolve calcular a probabilidade de se acertar na Mega Sena com apenas **um jogo**. Para isso precisamos saber quantas **combinações de seis números podem ser formadas com os 60 números disponíveis**."
   ]
  },
  {
   "cell_type": "code",
   "execution_count": null,
   "id": "a3b11973",
   "metadata": {},
   "outputs": [],
   "source": [
    "numero_bolas = 60\n",
    "num_por_cartela = 6\n",
    "cartela = 1\n",
    "\n",
    "combinacoes = comb(numero_bolas, num_por_cartela)\n",
    "combinacoes\n",
    "\n",
    "propabilidade = cartela / combinacoes\n",
    "\n",
    "print(f'total combinações mega sena %0.2f' % combinacoes)\n",
    "print(f'probabilidade de ganhar %0.15f' % propabilidade)"
   ]
  },
  {
   "cell_type": "markdown",
   "id": "ce6891c7",
   "metadata": {},
   "source": [
    "Em um concurso para preencher uma vaga de cientista de dados temos um total de **10 questões** de múltipla escolha com **3 alternativas possíveis** em cada questão. **Cada questão tem o mesmo valor.** Suponha que um candidato resolva se aventurar sem ter estudado absolutamente nada. Ele resolve fazer a prova de olhos vendados e chutar todas as resposta. Assumindo que a prova **vale 10 pontos e a nota de corte seja 5**, obtenha a probabilidade deste candidato **acertar 5 questões** e também a probabilidade deste candidato **passar para a próxima etapa do processo seletivo**."
   ]
  },
  {
   "cell_type": "code",
   "execution_count": null,
   "id": "d4e78103",
   "metadata": {},
   "outputs": [],
   "source": [
    "# quantidade de questões, numero de ensaios\n",
    "n = 10\n",
    "\n",
    "# Qual a probabilidade de sucesso p?\n",
    "numero_de_alternativa_por_questão = 3 \n",
    "p = 1 / numero_de_alternativa_por_questão\n",
    "\n",
    "# probabilidade de fracasso q? \n",
    "q = 1 - p\n",
    "\n",
    "# total de eventos que se deseja obter sucesso k? \n",
    "k = 5\n",
    "\n",
    "propabilidade = binom.pmf(k, n, p) * 100\n",
    "propabilidade_passar = binom.sf(4, n, p) * 100\n",
    "\n",
    "print(f'Probabilidade de acertar 5 questões: {propabilidade:.2f}%')\n",
    "print(f'Probabilidade de passar (acertar 5 questões ou mais): {propabilidade_passar:.2f}%')"
   ]
  },
  {
   "cell_type": "markdown",
   "id": "45b50a2e",
   "metadata": {},
   "source": [
    "Suponha que acabamos de criar um jogo de loteria, chamado Show de prêmios. Neste nosso novo jogo, o apostador marca **20 números**, dentre os **25 disponíveis** no bilhete, e pode ganhar até 1 milhão de reais.\n",
    "\n",
    "Determine **qual o número de combinações possíveis (espaço amostral)** e a **probabilidade de se ganhar o prêmio jogando apenas um bilhete** (considere apenas quinze casas decimais)."
   ]
  },
  {
   "cell_type": "code",
   "execution_count": null,
   "id": "a2752fcc",
   "metadata": {},
   "outputs": [],
   "source": [
    "espaco_amostral = comb(N = 25, k = 20)\n",
    "probabilidade = 1 / comb(N = 25, k = 20)\n",
    "\n",
    "print(f'Numero de combinações possíveis: {espaco_amostral:.0f}')\n",
    "print(f'Probabilidade de ganhar jogando apenas um bilhete: {probabilidade:0.15f}')\n",
    "\n",
    "print('Combinações = %d e Probabilidade = %0.15f' % (espaco_amostral, probabilidade))"
   ]
  },
  {
   "cell_type": "markdown",
   "id": "f60dc7da",
   "metadata": {},
   "source": [
    "Uma moeda, perfeitamente equilibrada, é lançada para o alto **quatro vezes**. Utilizando a distribuição binomial, obtenha **a probabilidade de a moeda cair com a face coroa voltada para cima duas vezes**."
   ]
  },
  {
   "cell_type": "code",
   "execution_count": null,
   "id": "505af4cf",
   "metadata": {},
   "outputs": [],
   "source": [
    "p = 1 / 2  # Probabilidade de sair COROA\n",
    "n = 4      # Total de lançamentos\n",
    "k = 2      # Total de sucessos (faces COROA voltada para cima)\n",
    "\n",
    "probabilidade = binom.pmf(k, n, p)\n",
    "\n",
    "print(f'Probabilidade de cair a moeda com a face coroa: {probabilidade:0.4f}')"
   ]
  },
  {
   "cell_type": "markdown",
   "id": "ff9b9504",
   "metadata": {},
   "source": [
    "Um dado, perfeitamente equilibrado, é lançado para o alto **dez vezes**. Utilizando a **distribuição binomial**, obtenha a probabilidade de o dado cair com o número **cinco** voltado para cima **pelo menos três vezes**."
   ]
  },
  {
   "cell_type": "code",
   "execution_count": null,
   "id": "4b941d90",
   "metadata": {},
   "outputs": [],
   "source": [
    "p = 1 / 6  # Probabilidade de sair o 5 no dado\n",
    "n = 10      # Total de lançamentos\n",
    "\n",
    "probabilidade = binom.sf(2, n, p ) * 100\n",
    "\n",
    "print(f'Probabilidade e cair 5 pelos menos 3 vezes: {probabilidade}')"
   ]
  },
  {
   "cell_type": "markdown",
   "id": "baa760c6",
   "metadata": {},
   "source": [
    "Suponha que a probabilidade de um casal ter filhos com olhos azuis seja de 22%. Em 50 famílias, com 3 crianças cada uma, quantas podemos esperar que tenham dois filhos com olhos azuis?"
   ]
  },
  {
   "cell_type": "code",
   "execution_count": null,
   "id": "f26155ab",
   "metadata": {},
   "outputs": [],
   "source": [
    "p = 0.22\n",
    "n = 3\n",
    "k = 2\n",
    "propabilidade = binom.pmf(k, n, p).sum()\n",
    "filos_olhos_azuis = 50 * propabilidade\n",
    "filos_olhos_azuis"
   ]
  },
  {
   "cell_type": "markdown",
   "id": "ca50f17b",
   "metadata": {},
   "source": [
    "O número médio de clientes que entram em uma padaria por hora é igual a 20. Obtenha a probabilidade de, na próxima hora, entrarem exatamente 25 clientes.\n",
    "\n",
    "* A: 11,22% \n",
    "* B: 5,19%\n",
    "* C: 4,46%\n",
    "* D: 95,54%"
   ]
  },
  {
   "cell_type": "code",
   "execution_count": null,
   "id": "d3b1f750",
   "metadata": {},
   "outputs": [],
   "source": [
    "m = 20\n",
    "k = 25\n",
    "\n",
    "probabilidade = poisson.pmf(k, m) * 100\n",
    "print(f'Probabilidade: {probabilidade:0.2f}%')"
   ]
  },
  {
   "cell_type": "code",
   "execution_count": null,
   "id": "fd7819b7",
   "metadata": {},
   "outputs": [],
   "source": [
    "# Construindo tabela normal padronizada\n",
    "tabela_normal_padronizada = pd.DataFrame(\n",
    "    [], \n",
    "    index=[\"{0:0.2f}\".format(i / 100) for i in range(0, 400, 10)],\n",
    "    columns = [\"{0:0.2f}\".format(i / 100) for i in range(0, 10)])\n",
    "\n",
    "for index in tabela_normal_padronizada.index:\n",
    "    for column in tabela_normal_padronizada.columns:\n",
    "        Z = np.round(float(index) + float(column), 2)\n",
    "        tabela_normal_padronizada.loc[index, column] = \"{0:0.4f}\".format(norm.cdf(Z))\n",
    "\n",
    "tabela_normal_padronizada.rename_axis('Z', axis = 'columns', inplace = True)\n",
    "\n",
    "tabela_normal_padronizada.head()"
   ]
  },
  {
   "cell_type": "markdown",
   "id": "6f6a2f8f",
   "metadata": {},
   "source": [
    "A aplicação de uma prova de estatística em um concurso apresentou um conjunto de notas normalmente distribuídas. Verificou-se que o conjunto de notas tinha média 70 e desvio padrão de 5 pontos.\n",
    "Qual a probabilidade de um aluno, selecionado ao acaso, ter nota menor que 85?\n",
    "\n",
    "* A: 99,86%\n",
    "* B: 0,13%\n",
    "* C: 0%\n",
    "* D: 12,65%\n"
   ]
  },
  {
   "cell_type": "code",
   "execution_count": null,
   "id": "47ead87e",
   "metadata": {},
   "outputs": [],
   "source": [
    "media = 70\n",
    "desvio_padrao = 5\n",
    "\n",
    "Z = (85 - media) / desvio_padrao\n",
    "\n",
    "norm.cdf(Z)"
   ]
  },
  {
   "cell_type": "markdown",
   "id": "f61f280c",
   "metadata": {},
   "source": [
    "O faturamento diário de um motorista de aplicativo segue uma distribuição aproximadamente normal, com média R$ 300,00 e desvio padrão igual a R$ 50,00. Obtenha as probabilidades de que, em um dia aleatório, o motorista ganhe:\n",
    "\n",
    "1) Entre R$ 250,00 e R$ 350,00\n",
    "\n",
    "2) Entre R$ 400,00 e R$ 500,00\n",
    "\n",
    "* A: 1) 68,27%; 2) 2,27%\n",
    "* B: 1) 9,38%; 2) 5,49%\n",
    "* C: 1) 2,27%; 2) 68,27%\n",
    "* D: 1) 0,6827%; 2) 0,0227%"
   ]
  },
  {
   "cell_type": "code",
   "execution_count": null,
   "id": "ae096c3c",
   "metadata": {},
   "outputs": [],
   "source": [
    "media = 300\n",
    "desvio_padrao = 50\n",
    "ganho_a = [250, 350]\n",
    "ganho_b = [400, 500]\n",
    "\n",
    "def probabilidade_cdf(x_inf, x_sup, media, desvio_padrao):\n",
    "    Z_inf = (x_inf - media) / desvio_padrao\n",
    "    Z_sup = (x_sup - media) / desvio_padrao\n",
    "    return norm.cdf(Z_inf) - norm.cdf(Z_sup)\n",
    "\n",
    "propabilidade_1 = probabilidade_cdf(ganho_a[0], ganho_a[1], media, desvio_padrao)\n",
    "propabilidade_2 = probabilidade_cdf(ganho_b[0], ganho_b[1], media, desvio_padrao)\n",
    "\n",
    "propabilidade_1, propabilidade_2"
   ]
  },
  {
   "cell_type": "markdown",
   "id": "081608b9",
   "metadata": {},
   "source": [
    "O Inmetro verificou que as lâmpadas incandescentes da fabricante XPTO apresentam uma vida útil normalmente distribuída, com média igual a 720 dias e desvio padrão igual a 30 dias. Calcule a probabilidade de uma lâmpada, escolhida ao acaso, durar:\n",
    "\n",
    "1) Entre 650 e 750 dias\n",
    "\n",
    "2) Mais que 800 dias\n",
    "\n",
    "3) Menos que 700 dias\n",
    "\n",
    "* A: 1) 16,85%; 2) 0,38%; 3) 25,25%\n",
    "* B: 1) 83,15%; 2) 99,62%; 3) 74,75%\n",
    "* C: 1) 83,15%; 2) 0,38%; 3) 25,25%\n",
    "* D: 1) 0,8315%; 2) 0,0038%; 3) 0,2525%"
   ]
  },
  {
   "cell_type": "code",
   "execution_count": null,
   "id": "60bd37bc",
   "metadata": {},
   "outputs": [],
   "source": [
    "media = 720\n",
    "desvio_padrao = 30 \n",
    "durabilidadea = [650, 750]\n",
    "durabilidadeb = [800]\n",
    "durabilidadec = [700]\n",
    "\n",
    "def probabilidade_cdf(x_inf, x_sup, media, desvio_padrao):\n",
    "    Z_inf = (x_inf - media) / desvio_padrao\n",
    "    Z_sup = (x_sup - media) / desvio_padrao\n",
    "    return norm.cdf(Z_inf) - norm.cdf(Z_sup)\n",
    "\n",
    "propabilidade_a = probabilidade_cdf(durabilidadea[0], durabilidadea[1], media, desvio_padrao)\n",
    "propabilidade_b = 1 - (norm.cdf( (durabilidadeb[0] - media) / desvio_padrao ))\n",
    "propabilidade_c = (norm.cdf( (durabilidadec[0] - media) / desvio_padrao ))\n",
    "\n",
    "propabilidade_a, propabilidade_b, propabilidade_c"
   ]
  },
  {
   "cell_type": "markdown",
   "id": "fbd63d1b",
   "metadata": {},
   "source": [
    "Utilizando a tabela padronizada, ou o ferramental disponibilizado pelo Python, encontre a área sob a curva normal para os valores de Z abaixo:\n",
    "1) Z < 1,96\n",
    "2) Z > 2,15\n",
    "3) Z < -0,78\n",
    "4) Z > 0,59\n",
    "\n",
    "* **A: 1) 0,9750; 2) 0,0158; 3) 0,2177; 4) 0,2776**\n",
    "* B: 1) 0,9750; 2) 0,0158; 3) 0,7823; 4) 0,2776\n",
    "* C: 1) 0,0250; 2) 0,9842; 3) 0,7823; 4) 0,7224\n",
    "* D: 1) 0,9750; 2) 0,9842; 3) 0,2177; 4) 0,7224"
   ]
  },
  {
   "cell_type": "code",
   "execution_count": null,
   "id": "3b88887b",
   "metadata": {},
   "outputs": [],
   "source": [
    "for z in [1.96, 2.15, -0.78, 0.59]:\n",
    "    print( round(norm.cdf(z),4))\n",
    "    print( round(norm.cdf(-z),4))"
   ]
  }
 ],
 "metadata": {
  "kernelspec": {
   "display_name": "Python 3",
   "language": "python",
   "name": "python3"
  },
  "language_info": {
   "codemirror_mode": {
    "name": "ipython",
    "version": 3
   },
   "file_extension": ".py",
   "mimetype": "text/x-python",
   "name": "python",
   "nbconvert_exporter": "python",
   "pygments_lexer": "ipython3",
   "version": "3.11.3"
  }
 },
 "nbformat": 4,
 "nbformat_minor": 5
}

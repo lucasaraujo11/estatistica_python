{
 "cells": [
  {
   "cell_type": "code",
   "execution_count": 1,
   "id": "f199ce35",
   "metadata": {},
   "outputs": [],
   "source": [
    "import pandas as pd\n",
    "import numpy as np\n",
    "from scipy.special import comb\n",
    "from scipy.stats import binom, poisson, norm"
   ]
  },
  {
   "cell_type": "markdown",
   "id": "de4174f7",
   "metadata": {},
   "source": [
    "Em um volante de loteria da Mega Sena temos um total de **60 números** para escolher onde a aposta mínima é de **seis números**. Você que é curiosa(o) resolve calcular a probabilidade de se acertar na Mega Sena com apenas **um jogo**. Para isso precisamos saber quantas **combinações de seis números podem ser formadas com os 60 números disponíveis**."
   ]
  },
  {
   "cell_type": "code",
   "execution_count": 2,
   "id": "a3b11973",
   "metadata": {},
   "outputs": [
    {
     "name": "stdout",
     "output_type": "stream",
     "text": [
      "total combinações mega sena 50063860.00\n",
      "probabilidade de ganhar 0.000000019974489\n"
     ]
    }
   ],
   "source": [
    "numero_bolas = 60\n",
    "num_por_cartela = 6\n",
    "cartela = 1\n",
    "\n",
    "combinacoes = comb(numero_bolas, num_por_cartela)\n",
    "combinacoes\n",
    "\n",
    "propabilidade = cartela / combinacoes\n",
    "\n",
    "print(f'total combinações mega sena %0.2f' % combinacoes)\n",
    "print(f'probabilidade de ganhar %0.15f' % propabilidade)"
   ]
  },
  {
   "cell_type": "markdown",
   "id": "ce6891c7",
   "metadata": {},
   "source": [
    "Em um concurso para preencher uma vaga de cientista de dados temos um total de **10 questões** de múltipla escolha com **3 alternativas possíveis** em cada questão. **Cada questão tem o mesmo valor.** Suponha que um candidato resolva se aventurar sem ter estudado absolutamente nada. Ele resolve fazer a prova de olhos vendados e chutar todas as resposta. Assumindo que a prova **vale 10 pontos e a nota de corte seja 5**, obtenha a probabilidade deste candidato **acertar 5 questões** e também a probabilidade deste candidato **passar para a próxima etapa do processo seletivo**."
   ]
  },
  {
   "cell_type": "code",
   "execution_count": 3,
   "id": "d4e78103",
   "metadata": {},
   "outputs": [
    {
     "name": "stdout",
     "output_type": "stream",
     "text": [
      "Probabilidade de acertar 5 questões: 13.66%\n",
      "Probabilidade de passar (acertar 5 questões ou mais): 21.31%\n"
     ]
    }
   ],
   "source": [
    "# quantidade de questões, numero de ensaios\n",
    "n = 10\n",
    "\n",
    "# Qual a probabilidade de sucesso p?\n",
    "numero_de_alternativa_por_questão = 3 \n",
    "p = 1 / numero_de_alternativa_por_questão\n",
    "\n",
    "# probabilidade de fracasso q? \n",
    "q = 1 - p\n",
    "\n",
    "# total de eventos que se deseja obter sucesso k? \n",
    "k = 5\n",
    "\n",
    "propabilidade = binom.pmf(k, n, p) * 100\n",
    "propabilidade_passar = binom.sf(4, n, p) * 100\n",
    "\n",
    "print(f'Probabilidade de acertar 5 questões: {propabilidade:.2f}%')\n",
    "print(f'Probabilidade de passar (acertar 5 questões ou mais): {propabilidade_passar:.2f}%')"
   ]
  },
  {
   "cell_type": "markdown",
   "id": "45b50a2e",
   "metadata": {},
   "source": [
    "Suponha que acabamos de criar um jogo de loteria, chamado Show de prêmios. Neste nosso novo jogo, o apostador marca **20 números**, dentre os **25 disponíveis** no bilhete, e pode ganhar até 1 milhão de reais.\n",
    "\n",
    "Determine **qual o número de combinações possíveis (espaço amostral)** e a **probabilidade de se ganhar o prêmio jogando apenas um bilhete** (considere apenas quinze casas decimais)."
   ]
  },
  {
   "cell_type": "code",
   "execution_count": 4,
   "id": "a2752fcc",
   "metadata": {},
   "outputs": [
    {
     "name": "stdout",
     "output_type": "stream",
     "text": [
      "Numero de combinações possíveis: 53130\n",
      "Probabilidade de ganhar jogando apenas um bilhete: 0.000018821757952\n",
      "Combinações = 53130 e Probabilidade = 0.000018821757952\n"
     ]
    }
   ],
   "source": [
    "espaco_amostral = comb(N = 25, k = 20)\n",
    "probabilidade = 1 / comb(N = 25, k = 20)\n",
    "\n",
    "print(f'Numero de combinações possíveis: {espaco_amostral:.0f}')\n",
    "print(f'Probabilidade de ganhar jogando apenas um bilhete: {probabilidade:0.15f}')\n",
    "\n",
    "print('Combinações = %d e Probabilidade = %0.15f' % (espaco_amostral, probabilidade))"
   ]
  },
  {
   "cell_type": "markdown",
   "id": "f60dc7da",
   "metadata": {},
   "source": [
    "Uma moeda, perfeitamente equilibrada, é lançada para o alto **quatro vezes**. Utilizando a distribuição binomial, obtenha **a probabilidade de a moeda cair com a face coroa voltada para cima duas vezes**."
   ]
  },
  {
   "cell_type": "code",
   "execution_count": 5,
   "id": "505af4cf",
   "metadata": {},
   "outputs": [
    {
     "name": "stdout",
     "output_type": "stream",
     "text": [
      "Probabilidade de cair a moeda com a face coroa: 0.3750\n"
     ]
    }
   ],
   "source": [
    "p = 1 / 2  # Probabilidade de sair COROA\n",
    "n = 4      # Total de lançamentos\n",
    "k = 2      # Total de sucessos (faces COROA voltada para cima)\n",
    "\n",
    "probabilidade = binom.pmf(k, n, p)\n",
    "\n",
    "print(f'Probabilidade de cair a moeda com a face coroa: {probabilidade:0.4f}')"
   ]
  },
  {
   "cell_type": "markdown",
   "id": "ff9b9504",
   "metadata": {},
   "source": [
    "Um dado, perfeitamente equilibrado, é lançado para o alto **dez vezes**. Utilizando a **distribuição binomial**, obtenha a probabilidade de o dado cair com o número **cinco** voltado para cima **pelo menos três vezes**."
   ]
  },
  {
   "cell_type": "code",
   "execution_count": 6,
   "id": "4b941d90",
   "metadata": {},
   "outputs": [
    {
     "name": "stdout",
     "output_type": "stream",
     "text": [
      "Probabilidade e cair 5 pelos menos 3 vezes: 22.47732021287407\n"
     ]
    }
   ],
   "source": [
    "p = 1 / 6  # Probabilidade de sair o 5 no dado\n",
    "n = 10      # Total de lançamentos\n",
    "\n",
    "probabilidade = binom.sf(2, n, p ) * 100\n",
    "\n",
    "print(f'Probabilidade e cair 5 pelos menos 3 vezes: {probabilidade}')"
   ]
  },
  {
   "cell_type": "markdown",
   "id": "baa760c6",
   "metadata": {},
   "source": [
    "Suponha que a probabilidade de um casal ter filhos com olhos azuis seja de 22%. Em 50 famílias, com 3 crianças cada uma, quantas podemos esperar que tenham dois filhos com olhos azuis?"
   ]
  },
  {
   "cell_type": "code",
   "execution_count": 7,
   "id": "f26155ab",
   "metadata": {},
   "outputs": [
    {
     "data": {
      "text/plain": [
       "5.662799999999996"
      ]
     },
     "execution_count": 7,
     "metadata": {},
     "output_type": "execute_result"
    }
   ],
   "source": [
    "p = 0.22\n",
    "n = 3\n",
    "k = 2\n",
    "propabilidade = binom.pmf(k, n, p).sum()\n",
    "filos_olhos_azuis = 50 * propabilidade\n",
    "filos_olhos_azuis"
   ]
  },
  {
   "cell_type": "markdown",
   "id": "ca50f17b",
   "metadata": {},
   "source": [
    "O número médio de clientes que entram em uma padaria por hora é igual a 20. Obtenha a probabilidade de, na próxima hora, entrarem exatamente 25 clientes.\n",
    "\n",
    "* A: 11,22% \n",
    "* B: 5,19%\n",
    "* C: 4,46%\n",
    "* D: 95,54%"
   ]
  },
  {
   "cell_type": "code",
   "execution_count": 8,
   "id": "d3b1f750",
   "metadata": {},
   "outputs": [
    {
     "name": "stdout",
     "output_type": "stream",
     "text": [
      "Probabilidade: 4.46%\n"
     ]
    }
   ],
   "source": [
    "m = 20\n",
    "k = 25\n",
    "\n",
    "probabilidade = poisson.pmf(k, m) * 100\n",
    "print(f'Probabilidade: {probabilidade:0.2f}%')"
   ]
  },
  {
   "cell_type": "code",
   "execution_count": 9,
   "id": "fd7819b7",
   "metadata": {},
   "outputs": [
    {
     "data": {
      "text/html": [
       "<div>\n",
       "<style scoped>\n",
       "    .dataframe tbody tr th:only-of-type {\n",
       "        vertical-align: middle;\n",
       "    }\n",
       "\n",
       "    .dataframe tbody tr th {\n",
       "        vertical-align: top;\n",
       "    }\n",
       "\n",
       "    .dataframe thead th {\n",
       "        text-align: right;\n",
       "    }\n",
       "</style>\n",
       "<table border=\"1\" class=\"dataframe\">\n",
       "  <thead>\n",
       "    <tr style=\"text-align: right;\">\n",
       "      <th>Z</th>\n",
       "      <th>0.00</th>\n",
       "      <th>0.01</th>\n",
       "      <th>0.02</th>\n",
       "      <th>0.03</th>\n",
       "      <th>0.04</th>\n",
       "      <th>0.05</th>\n",
       "      <th>0.06</th>\n",
       "      <th>0.07</th>\n",
       "      <th>0.08</th>\n",
       "      <th>0.09</th>\n",
       "    </tr>\n",
       "  </thead>\n",
       "  <tbody>\n",
       "    <tr>\n",
       "      <th>0.00</th>\n",
       "      <td>0.5000</td>\n",
       "      <td>0.5040</td>\n",
       "      <td>0.5080</td>\n",
       "      <td>0.5120</td>\n",
       "      <td>0.5160</td>\n",
       "      <td>0.5199</td>\n",
       "      <td>0.5239</td>\n",
       "      <td>0.5279</td>\n",
       "      <td>0.5319</td>\n",
       "      <td>0.5359</td>\n",
       "    </tr>\n",
       "    <tr>\n",
       "      <th>0.10</th>\n",
       "      <td>0.5398</td>\n",
       "      <td>0.5438</td>\n",
       "      <td>0.5478</td>\n",
       "      <td>0.5517</td>\n",
       "      <td>0.5557</td>\n",
       "      <td>0.5596</td>\n",
       "      <td>0.5636</td>\n",
       "      <td>0.5675</td>\n",
       "      <td>0.5714</td>\n",
       "      <td>0.5753</td>\n",
       "    </tr>\n",
       "    <tr>\n",
       "      <th>0.20</th>\n",
       "      <td>0.5793</td>\n",
       "      <td>0.5832</td>\n",
       "      <td>0.5871</td>\n",
       "      <td>0.5910</td>\n",
       "      <td>0.5948</td>\n",
       "      <td>0.5987</td>\n",
       "      <td>0.6026</td>\n",
       "      <td>0.6064</td>\n",
       "      <td>0.6103</td>\n",
       "      <td>0.6141</td>\n",
       "    </tr>\n",
       "    <tr>\n",
       "      <th>0.30</th>\n",
       "      <td>0.6179</td>\n",
       "      <td>0.6217</td>\n",
       "      <td>0.6255</td>\n",
       "      <td>0.6293</td>\n",
       "      <td>0.6331</td>\n",
       "      <td>0.6368</td>\n",
       "      <td>0.6406</td>\n",
       "      <td>0.6443</td>\n",
       "      <td>0.6480</td>\n",
       "      <td>0.6517</td>\n",
       "    </tr>\n",
       "    <tr>\n",
       "      <th>0.40</th>\n",
       "      <td>0.6554</td>\n",
       "      <td>0.6591</td>\n",
       "      <td>0.6628</td>\n",
       "      <td>0.6664</td>\n",
       "      <td>0.6700</td>\n",
       "      <td>0.6736</td>\n",
       "      <td>0.6772</td>\n",
       "      <td>0.6808</td>\n",
       "      <td>0.6844</td>\n",
       "      <td>0.6879</td>\n",
       "    </tr>\n",
       "  </tbody>\n",
       "</table>\n",
       "</div>"
      ],
      "text/plain": [
       "Z       0.00    0.01    0.02    0.03    0.04    0.05    0.06    0.07    0.08  \\\n",
       "0.00  0.5000  0.5040  0.5080  0.5120  0.5160  0.5199  0.5239  0.5279  0.5319   \n",
       "0.10  0.5398  0.5438  0.5478  0.5517  0.5557  0.5596  0.5636  0.5675  0.5714   \n",
       "0.20  0.5793  0.5832  0.5871  0.5910  0.5948  0.5987  0.6026  0.6064  0.6103   \n",
       "0.30  0.6179  0.6217  0.6255  0.6293  0.6331  0.6368  0.6406  0.6443  0.6480   \n",
       "0.40  0.6554  0.6591  0.6628  0.6664  0.6700  0.6736  0.6772  0.6808  0.6844   \n",
       "\n",
       "Z       0.09  \n",
       "0.00  0.5359  \n",
       "0.10  0.5753  \n",
       "0.20  0.6141  \n",
       "0.30  0.6517  \n",
       "0.40  0.6879  "
      ]
     },
     "execution_count": 9,
     "metadata": {},
     "output_type": "execute_result"
    }
   ],
   "source": [
    "# Construindo tabela normal padronizada\n",
    "tabela_normal_padronizada = pd.DataFrame(\n",
    "    [], \n",
    "    index=[\"{0:0.2f}\".format(i / 100) for i in range(0, 400, 10)],\n",
    "    columns = [\"{0:0.2f}\".format(i / 100) for i in range(0, 10)])\n",
    "\n",
    "for index in tabela_normal_padronizada.index:\n",
    "    for column in tabela_normal_padronizada.columns:\n",
    "        Z = np.round(float(index) + float(column), 2)\n",
    "        tabela_normal_padronizada.loc[index, column] = \"{0:0.4f}\".format(norm.cdf(Z))\n",
    "\n",
    "tabela_normal_padronizada.rename_axis('Z', axis = 'columns', inplace = True)\n",
    "\n",
    "tabela_normal_padronizada.head()"
   ]
  },
  {
   "cell_type": "markdown",
   "id": "6f6a2f8f",
   "metadata": {},
   "source": [
    "A aplicação de uma prova de estatística em um concurso apresentou um conjunto de notas normalmente distribuídas. Verificou-se que o conjunto de notas tinha média 70 e desvio padrão de 5 pontos.\n",
    "Qual a probabilidade de um aluno, selecionado ao acaso, ter nota menor que 85?\n",
    "\n",
    "* A: 99,86%\n",
    "* B: 0,13%\n",
    "* C: 0%\n",
    "* D: 12,65%\n"
   ]
  },
  {
   "cell_type": "code",
   "execution_count": 10,
   "id": "47ead87e",
   "metadata": {},
   "outputs": [
    {
     "data": {
      "text/plain": [
       "0.9986501019683699"
      ]
     },
     "execution_count": 10,
     "metadata": {},
     "output_type": "execute_result"
    }
   ],
   "source": [
    "media = 70\n",
    "desvio_padrao = 5\n",
    "\n",
    "Z = (85 - media) / desvio_padrao\n",
    "\n",
    "norm.cdf(Z)"
   ]
  },
  {
   "cell_type": "markdown",
   "id": "f61f280c",
   "metadata": {},
   "source": [
    "O faturamento diário de um motorista de aplicativo segue uma distribuição aproximadamente normal, com média R$ 300,00 e desvio padrão igual a R$ 50,00. Obtenha as probabilidades de que, em um dia aleatório, o motorista ganhe:\n",
    "\n",
    "1) Entre R$ 250,00 e R$ 350,00\n",
    "\n",
    "2) Entre R$ 400,00 e R$ 500,00\n",
    "\n",
    "* A: 1) 68,27%; 2) 2,27%\n",
    "* B: 1) 9,38%; 2) 5,49%\n",
    "* C: 1) 2,27%; 2) 68,27%\n",
    "* D: 1) 0,6827%; 2) 0,0227%"
   ]
  },
  {
   "cell_type": "code",
   "execution_count": 11,
   "id": "ae096c3c",
   "metadata": {},
   "outputs": [
    {
     "data": {
      "text/plain": [
       "(-0.6826894921370859, -0.02271846070634609)"
      ]
     },
     "execution_count": 11,
     "metadata": {},
     "output_type": "execute_result"
    }
   ],
   "source": [
    "media = 300\n",
    "desvio_padrao = 50\n",
    "ganho_a = [250, 350]\n",
    "ganho_b = [400, 500]\n",
    "\n",
    "def probabilidade_cdf(x_inf, x_sup, media, desvio_padrao):\n",
    "    Z_inf = (x_inf - media) / desvio_padrao\n",
    "    Z_sup = (x_sup - media) / desvio_padrao\n",
    "    return norm.cdf(Z_inf) - norm.cdf(Z_sup)\n",
    "\n",
    "propabilidade_1 = probabilidade_cdf(ganho_a[0], ganho_a[1], media, desvio_padrao)\n",
    "propabilidade_2 = probabilidade_cdf(ganho_b[0], ganho_b[1], media, desvio_padrao)\n",
    "\n",
    "propabilidade_1, propabilidade_2"
   ]
  },
  {
   "cell_type": "markdown",
   "id": "081608b9",
   "metadata": {},
   "source": [
    "O Inmetro verificou que as lâmpadas incandescentes da fabricante XPTO apresentam uma vida útil normalmente distribuída, com média igual a 720 dias e desvio padrão igual a 30 dias. Calcule a probabilidade de uma lâmpada, escolhida ao acaso, durar:\n",
    "\n",
    "1) Entre 650 e 750 dias\n",
    "\n",
    "2) Mais que 800 dias\n",
    "\n",
    "3) Menos que 700 dias\n",
    "\n",
    "* A: 1) 16,85%; 2) 0,38%; 3) 25,25%\n",
    "* B: 1) 83,15%; 2) 99,62%; 3) 74,75%\n",
    "* C: 1) 83,15%; 2) 0,38%; 3) 25,25%\n",
    "* D: 1) 0,8315%; 2) 0,0038%; 3) 0,2525%"
   ]
  },
  {
   "cell_type": "code",
   "execution_count": 12,
   "id": "60bd37bc",
   "metadata": {},
   "outputs": [
    {
     "data": {
      "text/plain": [
       "(-0.8315294174398976, 0.003830380567589775, 0.2524925375469229)"
      ]
     },
     "execution_count": 12,
     "metadata": {},
     "output_type": "execute_result"
    }
   ],
   "source": [
    "media = 720\n",
    "desvio_padrao = 30 \n",
    "durabilidadea = [650, 750]\n",
    "durabilidadeb = [800]\n",
    "durabilidadec = [700]\n",
    "\n",
    "def probabilidade_cdf(x_inf, x_sup, media, desvio_padrao):\n",
    "    Z_inf = (x_inf - media) / desvio_padrao\n",
    "    Z_sup = (x_sup - media) / desvio_padrao\n",
    "    return norm.cdf(Z_inf) - norm.cdf(Z_sup)\n",
    "\n",
    "propabilidade_a = probabilidade_cdf(durabilidadea[0], durabilidadea[1], media, desvio_padrao)\n",
    "propabilidade_b = 1 - (norm.cdf( (durabilidadeb[0] - media) / desvio_padrao ))\n",
    "propabilidade_c = (norm.cdf( (durabilidadec[0] - media) / desvio_padrao ))\n",
    "\n",
    "propabilidade_a, propabilidade_b, propabilidade_c"
   ]
  },
  {
   "cell_type": "markdown",
   "id": "fbd63d1b",
   "metadata": {},
   "source": [
    "Utilizando a tabela padronizada, ou o ferramental disponibilizado pelo Python, encontre a área sob a curva normal para os valores de Z abaixo:\n",
    "1) Z < 1,96\n",
    "2) Z > 2,15\n",
    "3) Z < -0,78\n",
    "4) Z > 0,59\n",
    "\n",
    "* **A: 1) 0,9750; 2) 0,0158; 3) 0,2177; 4) 0,2776**\n",
    "* B: 1) 0,9750; 2) 0,0158; 3) 0,7823; 4) 0,2776\n",
    "* C: 1) 0,0250; 2) 0,9842; 3) 0,7823; 4) 0,7224\n",
    "* D: 1) 0,9750; 2) 0,9842; 3) 0,2177; 4) 0,7224"
   ]
  },
  {
   "cell_type": "code",
   "execution_count": 13,
   "id": "3b88887b",
   "metadata": {},
   "outputs": [
    {
     "name": "stdout",
     "output_type": "stream",
     "text": [
      "0.975\n",
      "0.025\n",
      "0.9842\n",
      "0.0158\n",
      "0.2177\n",
      "0.7823\n",
      "0.7224\n",
      "0.2776\n"
     ]
    }
   ],
   "source": [
    "for z in [1.96, 2.15, -0.78, 0.59]:\n",
    "    print( round(norm.cdf(z),4))\n",
    "    print( round(norm.cdf(-z),4))"
   ]
  },
  {
   "cell_type": "markdown",
   "id": "f54da498",
   "metadata": {},
   "source": [
    "Para estimar o valor médio gasto por cada cliente de uma grande rede de fast-food, foi selecionada uma amostra de 50 clientes.\n",
    "\n",
    "Assumindo que o valor do desvio padrão da população seja de R$ 6,00 e que esta população se distribui normalmente, obtenha a margem de erro desta estimativa para um nível de confiança de 95%."
   ]
  },
  {
   "cell_type": "markdown",
   "id": "19747960",
   "metadata": {},
   "source": [
    "|Nível de<br>confiança|Valor da área sob<br>a curva normal| $z$ |\n",
    "|:----------------:|:---------------------------------:|:---:|\n",
    "|90%               |0,95                               |1,645|\n",
    "|95%               |0,975                              |1,96 |\n",
    "|99%               |0,995                              |2,575|"
   ]
  },
  {
   "cell_type": "code",
   "execution_count": 16,
   "id": "e0d1f723",
   "metadata": {},
   "outputs": [
    {
     "name": "stdout",
     "output_type": "stream",
     "text": [
      "R$ 1.66\n"
     ]
    }
   ],
   "source": [
    "z = norm.ppf(0.975)\n",
    "desvio_padrao = 6\n",
    "n = 50\n",
    "\n",
    "e = z * (desvio_padrao / np.sqrt(n))\n",
    "print(\"R$ {0:0.2f}\".format(e))"
   ]
  },
  {
   "cell_type": "markdown",
   "id": "faad1c1b",
   "metadata": {},
   "source": [
    "Uma amostra aleatória simples de 1976 itens de uma população normalmente distribuída, com desvio padrão populacional igual a 11, resultou em uma média amostral de 28.\n",
    "\n",
    "Qual o intervalo de confiança de 90% para a média populacional?"
   ]
  },
  {
   "cell_type": "code",
   "execution_count": 21,
   "id": "2d33a6d6",
   "metadata": {},
   "outputs": [
    {
     "data": {
      "text/plain": [
       "(27.514993782489043, 28.485006217510957)"
      ]
     },
     "execution_count": 21,
     "metadata": {},
     "output_type": "execute_result"
    }
   ],
   "source": [
    "amostra = 1976\n",
    "desvio_padrao = 11\n",
    "media_amostra = 28\n",
    "z = norm.ppf(0.95)\n",
    "\n",
    "e = z * (desvio_padrao / np.sqrt(amostra))\n",
    "sigma = (desvio_padrao / np.sqrt(amostra))\n",
    "\n",
    "# isso\n",
    "intervalo = (round(media_amostra - e, 2 ), round(media_amostra + e, 2))\n",
    "\n",
    "# ou isso\n",
    "norm.interval( confidence= 0.95, loc = media_amostra, scale = sigma)"
   ]
  },
  {
   "cell_type": "markdown",
   "id": "8abf79e2",
   "metadata": {},
   "source": [
    "O valor do gasto médio dos clientes de uma loja de conveniência é de R$ 45,50. Assumindo que o desvio padrão dos gastos é igual a R$ 15,00, qual deve ser o tamanho da amostra para estimarmos a média populacional com um nível de significância de 10%?\n",
    "\n",
    "Considere que o erro máximo aceitável seja de 10%."
   ]
  },
  {
   "cell_type": "code",
   "execution_count": 24,
   "id": "0c8abd3e",
   "metadata": {},
   "outputs": [
    {
     "data": {
      "text/plain": [
       "29"
      ]
     },
     "execution_count": 24,
     "metadata": {},
     "output_type": "execute_result"
    }
   ],
   "source": [
    "media_gasto = 45.50\n",
    "sigma = 15 # desvio_padrao\n",
    "significancia = 0.1\n",
    "confianca = 1 - significancia\n",
    "\n",
    "erro_percentual = 0.1\n",
    "e = erro_percentual * media_gasto # Quando o erro for representado em termos percentuais, deve ser interpretado como um percentual relacionado à média.\n",
    "\n",
    "x = 0.5 + (confianca / 2)\n",
    "z = norm.ppf(x)\n",
    "\n",
    "n = (z * (sigma / e )) ** 2 \n",
    "int(n.round())"
   ]
  },
  {
   "cell_type": "markdown",
   "id": "d2ef153a",
   "metadata": {},
   "source": [
    "Um fabricante de farinha verificou que, em uma amostra aleatória formada por 200 sacos de 25 kg de um lote formado por 2.000 sacos, apresentou um desvio padrão amostral do peso igual a 480 g.\n",
    "\n",
    "Considerando um erro máximo associado à média populacional igual a 0,3 kg e um nível de confiança igual a 95%, qual tamanho de amostra deveria ser selecionado para obtermos uma estimativa confiável do parâmetro populacional?"
   ]
  },
  {
   "cell_type": "code",
   "execution_count": null,
   "id": "26d525f6",
   "metadata": {},
   "outputs": [
    {
     "data": {
      "text/plain": [
       "10"
      ]
     },
     "execution_count": 28,
     "metadata": {},
     "output_type": "execute_result"
    }
   ],
   "source": [
    "def area_tot(confianca):\n",
    "    return 0.5 + (confianca / 2)\n",
    "\n",
    "N = 2000\n",
    "\n",
    "z = norm.ppf( area_tot(0.95) )\n",
    "\n",
    "s = 480\n",
    "\n",
    "e = 0.3 * 1000 # Convertendo kg para g\n",
    "\n",
    "n = ((z**2) * (s**2) * (N)) / (((z**2) * (s**2)) + ((e**2) * (N-1)))\n",
    "int(n.round())"
   ]
  }
 ],
 "metadata": {
  "kernelspec": {
   "display_name": "Python 3",
   "language": "python",
   "name": "python3"
  },
  "language_info": {
   "codemirror_mode": {
    "name": "ipython",
    "version": 3
   },
   "file_extension": ".py",
   "mimetype": "text/x-python",
   "name": "python",
   "nbconvert_exporter": "python",
   "pygments_lexer": "ipython3",
   "version": "3.11.3"
  }
 },
 "nbformat": 4,
 "nbformat_minor": 5
}
